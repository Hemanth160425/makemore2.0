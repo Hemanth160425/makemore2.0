{
  "nbformat": 4,
  "nbformat_minor": 0,
  "metadata": {
    "colab": {
      "provenance": [],
      "gpuType": "T4",
      "authorship_tag": "ABX9TyNvkUKPfFOK1Zx8bcXpZ1of",
      "include_colab_link": true
    },
    "kernelspec": {
      "name": "python3",
      "display_name": "Python 3"
    },
    "language_info": {
      "name": "python"
    },
    "accelerator": "GPU"
  },
  "cells": [
    {
      "cell_type": "markdown",
      "metadata": {
        "id": "view-in-github",
        "colab_type": "text"
      },
      "source": [
        "<a href=\"https://colab.research.google.com/github/Hemanth160425/makemore2.0/blob/main/makemore2_0.ipynb\" target=\"_parent\"><img src=\"https://colab.research.google.com/assets/colab-badge.svg\" alt=\"Open In Colab\"/></a>"
      ]
    },
    {
      "cell_type": "code",
      "execution_count": null,
      "metadata": {
        "id": "oXo_nT6Za0fS"
      },
      "outputs": [],
      "source": [
        "import torch\n",
        "import torch.nn.functional as F\n",
        "import matplotlib.pyplot as plt\n"
      ]
    },
    {
      "cell_type": "code",
      "source": [
        "words=open('names.txt','r').read().splitlines()\n",
        "words[:10]\n"
      ],
      "metadata": {
        "colab": {
          "base_uri": "https://localhost:8080/"
        },
        "id": "8ITrFUUMbT_e",
        "outputId": "7c48faae-f33f-4278-8ee0-fd657b9c230b"
      },
      "execution_count": null,
      "outputs": [
        {
          "output_type": "execute_result",
          "data": {
            "text/plain": [
              "['emma',\n",
              " 'olivia',\n",
              " 'ava',\n",
              " 'isabella',\n",
              " 'sophia',\n",
              " 'charlotte',\n",
              " 'mia',\n",
              " 'amelia',\n",
              " 'harper',\n",
              " 'evelyn']"
            ]
          },
          "metadata": {},
          "execution_count": 2
        }
      ]
    },
    {
      "cell_type": "code",
      "source": [
        "len(words)"
      ],
      "metadata": {
        "colab": {
          "base_uri": "https://localhost:8080/"
        },
        "id": "YaR7lEvNIKkx",
        "outputId": "cf0c1643-a171-4c8f-9125-bb91f8649c90"
      },
      "execution_count": 49,
      "outputs": [
        {
          "output_type": "execute_result",
          "data": {
            "text/plain": [
              "32033"
            ]
          },
          "metadata": {},
          "execution_count": 49
        }
      ]
    },
    {
      "cell_type": "code",
      "source": [
        "k=sorted(list(set(''.join(words))))\n",
        "stoi={s:i+1 for i,s in enumerate(k)}\n",
        "stoi['.']=0\n",
        "itos={i:s for s,i in stoi.items()}"
      ],
      "metadata": {
        "id": "QJYjcKgpbvwI"
      },
      "execution_count": null,
      "outputs": []
    },
    {
      "cell_type": "code",
      "source": [
        "print(itos)"
      ],
      "metadata": {
        "colab": {
          "base_uri": "https://localhost:8080/"
        },
        "id": "tKiv8RDYcT8u",
        "outputId": "1a0b45a4-f884-4b39-d961-30e58a945e14"
      },
      "execution_count": null,
      "outputs": [
        {
          "output_type": "stream",
          "name": "stdout",
          "text": [
            "{1: 'a', 2: 'b', 3: 'c', 4: 'd', 5: 'e', 6: 'f', 7: 'g', 8: 'h', 9: 'i', 10: 'j', 11: 'k', 12: 'l', 13: 'm', 14: 'n', 15: 'o', 16: 'p', 17: 'q', 18: 'r', 19: 's', 20: 't', 21: 'u', 22: 'v', 23: 'w', 24: 'x', 25: 'y', 26: 'z', 0: '.'}\n"
          ]
        }
      ]
    },
    {
      "cell_type": "code",
      "source": [
        "bloks=3\n",
        "x=[]\n",
        "y=[]\n",
        "for w in words:\n",
        "  context=[0]*bloks\n",
        "  for ch in w+'.':\n",
        "    ix=stoi[ch]\n",
        "    x.append(context)\n",
        "    y.append(ix)\n",
        "    # print(''.join(itos[i] for i in context) ,\"--->\" ,itos[ix])\n",
        "    context=context[1:]+[ix]\n",
        "X=torch.tensor(x)\n",
        "Y=torch.tensor(y)"
      ],
      "metadata": {
        "id": "Ym9P5usjcbTM"
      },
      "execution_count": 42,
      "outputs": []
    },
    {
      "cell_type": "code",
      "source": [
        "X.shape,Y.shape"
      ],
      "metadata": {
        "colab": {
          "base_uri": "https://localhost:8080/"
        },
        "id": "gtWz63d3doih",
        "outputId": "c81e729d-4713-4b1c-e5f5-39cebaecc6b5"
      },
      "execution_count": 43,
      "outputs": [
        {
          "output_type": "execute_result",
          "data": {
            "text/plain": [
              "(torch.Size([228146, 3]), torch.Size([228146]))"
            ]
          },
          "metadata": {},
          "execution_count": 43
        }
      ]
    },
    {
      "cell_type": "code",
      "source": [
        "torch.cat([enc[:,0,:],enc[:,1,:],enc[:,2,:]],1).shape"
      ],
      "metadata": {
        "colab": {
          "base_uri": "https://localhost:8080/"
        },
        "id": "5xMUtM8lfRzq",
        "outputId": "52e2d6cd-a89d-4142-ff01-a658540d80e5"
      },
      "execution_count": null,
      "outputs": [
        {
          "output_type": "execute_result",
          "data": {
            "text/plain": [
              "torch.Size([32, 6])"
            ]
          },
          "metadata": {},
          "execution_count": 10
        }
      ]
    },
    {
      "cell_type": "code",
      "source": [
        "# also to remove a tensor dimention use unbind\n",
        "torch.cat(torch.unbind(enc,1),1).shape\n",
        "# unbind just take next each element of the list  dont use above or this create a new copy\n"
      ],
      "metadata": {
        "colab": {
          "base_uri": "https://localhost:8080/"
        },
        "id": "RXAjvR6LfR50",
        "outputId": "b5726c79-c0b3-41ac-ad62-dccaa3a6e853"
      },
      "execution_count": null,
      "outputs": [
        {
          "output_type": "execute_result",
          "data": {
            "text/plain": [
              "torch.Size([32, 6])"
            ]
          },
          "metadata": {},
          "execution_count": 11
        }
      ]
    },
    {
      "cell_type": "code",
      "source": [
        "g=torch.Generator().manual_seed(2147483647)\n",
        "c=torch.randn((27,2),generator=g)\n",
        "enc=c[x]\n",
        "W1=torch.randn((6,100),generator=g)\n",
        "b1=torch.randn((100),generator=g)\n",
        "w2=torch.rand((100,27),generator=g)\n",
        "b2=torch.rand((27),generator=g)\n",
        "parameters=[c,W1,b1,w2,b2]"
      ],
      "metadata": {
        "id": "YvOo10JJfRqS"
      },
      "execution_count": 127,
      "outputs": []
    },
    {
      "cell_type": "code",
      "source": [
        "for p in parameters:\n",
        "  p.requires_grad=True"
      ],
      "metadata": {
        "id": "wDCMv_yO0Wwx"
      },
      "execution_count": 128,
      "outputs": []
    },
    {
      "cell_type": "code",
      "source": [
        "for  p in parameters:\n",
        "  p.grad=None"
      ],
      "metadata": {
        "id": "0qTqw9osInAj"
      },
      "execution_count": 94,
      "outputs": []
    },
    {
      "cell_type": "code",
      "source": [
        "# how should we choose learning rate\n",
        "lr=torch.linspace(-3,0,1000)\n",
        "ls=10**(lr)\n"
      ],
      "metadata": {
        "id": "mg8XCE2lR4OO"
      },
      "execution_count": 98,
      "outputs": []
    },
    {
      "cell_type": "code",
      "source": [
        "# or use view it use storage to store raw numbers\n",
        "# lrl=[]\n",
        "# lossl=[]\n",
        "for  i in range(1000):\n",
        "  ix=torch.randint(0,X.shape[0],(32,))\n",
        "  enc=c[X[ix]]\n",
        "  h=torch.tanh(enc.view(-1,6)@W1+b1)\n",
        "  logits=h@w2+b2\n",
        "  # logits.shape\n",
        "  loss=F.cross_entropy(logits,Y[ix])\n",
        "  # print(loss.item())\n",
        "  for p in parameters:\n",
        "    p.grad=None\n",
        "  loss.backward()\n",
        "  for p in parameters:\n",
        "    p.data+=-0.1*p.grad\n",
        "  # lrl.append(ls[i])\n",
        "  # lossl.append(loss.item())\n"
      ],
      "metadata": {
        "id": "CDqr9mjXHo6v"
      },
      "execution_count": 122,
      "outputs": []
    },
    {
      "cell_type": "code",
      "source": [
        "enc=c[X]\n",
        "h=torch.tanh(enc.view(-1,6)@W1+b1)\n",
        "logits=h@w2+b2\n",
        "# logits.shape\n",
        "loss=F.cross_entropy(logits,Y)\n",
        "loss.item()"
      ],
      "metadata": {
        "colab": {
          "base_uri": "https://localhost:8080/"
        },
        "id": "rVHv29YKPKJt",
        "outputId": "b57c3d7a-8fc9-4ef5-f066-4274b36914cf"
      },
      "execution_count": 124,
      "outputs": [
        {
          "output_type": "execute_result",
          "data": {
            "text/plain": [
              "2.3748536109924316"
            ]
          },
          "metadata": {},
          "execution_count": 124
        }
      ]
    },
    {
      "cell_type": "code",
      "source": [
        "# @title in this we need to scale up so that we  can avoid underfit\n",
        "# just increse the size of the hidden layer\n",
        "# first we tried with different learning rates\n",
        "# next we tried with different size of the hidden layer\n",
        "# then we triign with different size of the embedding\n"
      ],
      "metadata": {
        "id": "ELD-tMHGfVtU"
      },
      "execution_count": 137,
      "outputs": []
    },
    {
      "cell_type": "code",
      "source": [
        "# increase the embiding sizze\n",
        "g=torch.Generator().manual_seed(2147483647)\n",
        "c=torch.randn((27,10),generator=g)\n",
        "enc=c[x]\n",
        "W1=torch.randn((30,300),generator=g)\n",
        "b1=torch.randn((300),generator=g)\n",
        "w2=torch.rand((300,27),generator=g)\n",
        "b2=torch.rand((27),generator=g)\n",
        "parameters=[c,W1,b1,w2,b2]"
      ],
      "metadata": {
        "id": "lFkn1Miof1ul"
      },
      "execution_count": 169,
      "outputs": []
    },
    {
      "cell_type": "code",
      "source": [],
      "metadata": {
        "id": "Y9HeOdIUgLwN"
      },
      "execution_count": 170,
      "outputs": []
    },
    {
      "cell_type": "code",
      "source": [
        "# @title change into funtion\n",
        "def train(words):\n",
        "  bloks=3\n",
        "  x=[]\n",
        "  y=[]\n",
        "  for w in words:\n",
        "    context=[0]*bloks\n",
        "    for ch in w+'.':\n",
        "      ix=stoi[ch]\n",
        "      x.append(context)\n",
        "      y.append(ix)\n",
        "      # print(''.join(itos[i] for i in context) ,\"--->\" ,itos[ix])\n",
        "      context=context[1:]+[ix]\n",
        "  X=torch.tensor(x)\n",
        "  Y=torch.tensor(y)\n",
        "  return X,Y\n",
        "import random\n",
        "random.seed(42)\n",
        "random.shuffle(words)\n",
        "n1=int(0.8*len(words))\n",
        "n2=int(0.9*len(words))\n",
        "\n",
        "xtrain,ytrain=train(words[:n1])\n",
        "xdev,ydev=train(words[n1:n2])\n",
        "xtest,ytest=train(words[n2:])\n"
      ],
      "metadata": {
        "id": "eBtnk_6QYyuK"
      },
      "execution_count": 172,
      "outputs": []
    },
    {
      "cell_type": "code",
      "source": [
        "# or use view it use storage to store raw numbers\n",
        "# lrl=[]\n",
        "lossl=[]\n",
        "steps=[]\n",
        "for  i in range(3000):\n",
        "  ix=torch.randint(0,xtrain.shape[0],(32,))\n",
        "  enc=c[xtrain[ix]]\n",
        "  h=torch.tanh(enc.view(-1,30)@W1+b1)\n",
        "  logits=h@w2+b2\n",
        "  # logits.shape\n",
        "  loss=F.cross_entropy(logits,ytrain[ix])\n",
        "  # print(loss.item())\n",
        "  for p in parameters:\n",
        "    p.grad=None\n",
        "  loss.backward()\n",
        "  for p in parameters:\n",
        "    p.data+=-0.1*p.grad\n",
        "  # lrl.append(ls[i])\n",
        "  lossl.append(loss.item())\n",
        "  steps.append(i)\n",
        "\n"
      ],
      "metadata": {
        "id": "Mg5G9RhAecCM"
      },
      "execution_count": 176,
      "outputs": []
    },
    {
      "cell_type": "code",
      "source": [
        "# for training loss\n",
        "# change the dimentions\n",
        "enc=c[xtrain]\n",
        "h=torch.tanh(enc.view(-1,30)@W1+b1)\n",
        "logits=h@w2+b2\n",
        "# logits.shape\n",
        "loss=F.cross_entropy(logits,ytrain)\n",
        "loss.item()"
      ],
      "metadata": {
        "colab": {
          "base_uri": "https://localhost:8080/"
        },
        "id": "G5btZd2EoCdd",
        "outputId": "a7997fbe-ac40-4c9d-fdb1-0934fe3a607d"
      },
      "execution_count": 180,
      "outputs": [
        {
          "output_type": "execute_result",
          "data": {
            "text/plain": [
              "2.381192922592163"
            ]
          },
          "metadata": {},
          "execution_count": 180
        }
      ]
    },
    {
      "cell_type": "code",
      "source": [
        "# for evaluation loss\n",
        "# change the dimentions\n",
        "enc=c[xdev]\n",
        "h=torch.tanh(enc.view(-1,30)@W1+b1)\n",
        "logits=h@w2+b2\n",
        "# logits.shape\n",
        "loss=F.cross_entropy(logits,ydev)\n",
        "loss.item()"
      ],
      "metadata": {
        "colab": {
          "base_uri": "https://localhost:8080/"
        },
        "id": "Tfz96Z-se00T",
        "outputId": "1daac55c-c3cd-4d22-ffd6-ba1ba64cfca9"
      },
      "execution_count": 181,
      "outputs": [
        {
          "output_type": "execute_result",
          "data": {
            "text/plain": [
              "2.414196729660034"
            ]
          },
          "metadata": {},
          "execution_count": 181
        }
      ]
    },
    {
      "cell_type": "code",
      "source": [
        "plt.plot(steps,lossl)"
      ],
      "metadata": {
        "colab": {
          "base_uri": "https://localhost:8080/",
          "height": 447
        },
        "id": "0u-y_XvVg4b0",
        "outputId": "1cf82790-4f71-4169-d572-06479cc73d78"
      },
      "execution_count": 179,
      "outputs": [
        {
          "output_type": "execute_result",
          "data": {
            "text/plain": [
              "[<matplotlib.lines.Line2D at 0x78c763a44d30>]"
            ]
          },
          "metadata": {},
          "execution_count": 179
        },
        {
          "output_type": "display_data",
          "data": {
            "text/plain": [
              "<Figure size 640x480 with 1 Axes>"
            ],
            "image/png": "[encoded data removed]"
          },
          "metadata": {}
        }
      ]
    },
    {
      "cell_type": "code",
      "source": [
        "# ploting of the embidings of the alphabets\n",
        "plt.figure(figsize=(8,8))\n",
        "plt.scatter(c[:,0].data,c[:,1].data,s=100)\n",
        "for i in range(c.shape[0]):\n",
        "  plt.text(c[i,0].item(),c[i,1].item(),itos[i],ha='center',va='center',color='white')\n",
        "plt.grid('minor')"
      ],
      "metadata": {
        "colab": {
          "base_uri": "https://localhost:8080/",
          "height": 676
        },
        "id": "Wt3gPZ8Bj0Z3",
        "outputId": "883c0d4d-f650-4af9-cf39-a336bc3c04aa"
      },
      "execution_count": 168,
      "outputs": [
        {
          "output_type": "display_data",
          "data": {
            "text/plain": [
              "<Figure size 800x800 with 1 Axes>"
            ],
            "image/png": "[encoded data removed]"
          },
          "metadata": {}
        }
      ]
    },
    {
      "cell_type": "code",
      "source": [
        "plt.plot(lrl,lossl)\n",
        "# to choose the learingin rate it should not tougle nor it take too long"
      ],
      "metadata": {
        "colab": {
          "base_uri": "https://localhost:8080/",
          "height": 447
        },
        "id": "OsqMr-jkSmUu",
        "outputId": "f5af52a4-e5bd-45d4-f0eb-cdcc091f4af4"
      },
      "execution_count": 100,
      "outputs": [
        {
          "output_type": "execute_result",
          "data": {
            "text/plain": [
              "[<matplotlib.lines.Line2D at 0x78c76e981e10>]"
            ]
          },
          "metadata": {},
          "execution_count": 100
        },
        {
          "output_type": "display_data",
          "data": {
            "text/plain": [
              "<Figure size 640x480 with 1 Axes>"
            ],
            "image/png": "[encoded data removed]"
          },
          "metadata": {}
        }
      ]
    },
    {
      "cell_type": "code",
      "source": [
        "# from the above graph we observed the loass is mininmum at 0.1 learing rate"
      ],
      "metadata": {
        "id": "TOjQCz0ITqcf"
      },
      "execution_count": 102,
      "outputs": []
    },
    {
      "cell_type": "code",
      "source": [],
      "metadata": {
        "id": "QBiftps0R11G"
      },
      "execution_count": null,
      "outputs": []
    },
    {
      "cell_type": "code",
      "source": [
        "# using batch of 32 train olny for 32 and update for remaining /\n",
        "torch.randint(0,X.shape[0],(32,))"
      ],
      "metadata": {
        "id": "a_A-uy6DN8hO"
      },
      "execution_count": null,
      "outputs": []
    },
    {
      "cell_type": "code",
      "source": [
        "# out=logits.exp()\n",
        "# prob=out/out.sum(1,keepdims=True)\n",
        "# prob.shape\n",
        "# loss=-prob[torch.arange(32),y].log().mean()\n",
        "# loss"
      ],
      "metadata": {
        "id": "1mlrF8rSIY_5",
        "colab": {
          "base_uri": "https://localhost:8080/"
        },
        "outputId": "e7abdfea-face-41e4-fe0b-67576b14f9c4"
      },
      "execution_count": 24,
      "outputs": [
        {
          "output_type": "execute_result",
          "data": {
            "text/plain": [
              "tensor(6.1158)"
            ]
          },
          "metadata": {},
          "execution_count": 24
        }
      ]
    },
    {
      "cell_type": "code",
      "source": [
        "# @title CONCLUTION\n",
        "\n",
        "# change iteration\n",
        "# change  learingin rate\n",
        "# change hidden layer size\n",
        "# chane embiding size\n",
        "# change batch size\n",
        "\n",
        "\n"
      ],
      "metadata": {
        "id": "_y71piGaodns"
      },
      "execution_count": null,
      "outputs": []
    },
    {
      "cell_type": "code",
      "source": [
        "# @title suggetion\n",
        "\n",
        "#  use log for loss to get smooth graph\n",
        "\n"
      ],
      "metadata": {
        "id": "DQNd9Igio-E8"
      },
      "execution_count": null,
      "outputs": []
    }
  ]
}